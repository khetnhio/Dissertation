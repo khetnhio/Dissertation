{
 "cells": [
  {
   "cell_type": "code",
   "execution_count": 1,
   "id": "d481882b",
   "metadata": {},
   "outputs": [],
   "source": [
    "import pandas as pd\n",
    "!pip install transformers -q\n",
    "# !pip install scispacy\n",
    "# !pip install https://s3-us-west-2.amazonaws.com/ai2-s2-scispacy/releases/v0.2.4/en_core_sci_md-0.2.4.tar.gz"
   ]
  },
  {
   "cell_type": "code",
   "execution_count": 2,
   "id": "32b07df5",
   "metadata": {},
   "outputs": [
    {
     "name": "stderr",
     "output_type": "stream",
     "text": [
      "Special tokens have been added in the vocabulary, make sure the associated word embeddings are fine-tuned or trained.\n",
      "Some weights of the model checkpoint at emilyalsentzer/Bio_ClinicalBERT were not used when initializing BertModel: ['cls.predictions.transform.LayerNorm.weight', 'cls.predictions.transform.dense.bias', 'cls.predictions.transform.LayerNorm.bias', 'cls.seq_relationship.bias', 'cls.seq_relationship.weight', 'cls.predictions.transform.dense.weight', 'cls.predictions.bias', 'cls.predictions.decoder.weight']\n",
      "- This IS expected if you are initializing BertModel from the checkpoint of a model trained on another task or with another architecture (e.g. initializing a BertForSequenceClassification model from a BertForPreTraining model).\n",
      "- This IS NOT expected if you are initializing BertModel from the checkpoint of a model that you expect to be exactly identical (initializing a BertForSequenceClassification model from a BertForSequenceClassification model).\n"
     ]
    }
   ],
   "source": [
    "from transformers import AutoTokenizer, AutoModel\n",
    "tokenizer = AutoTokenizer.from_pretrained(\"emilyalsentzer/Bio_ClinicalBERT\")\n",
    "model = AutoModel.from_pretrained(\"emilyalsentzer/Bio_ClinicalBERT\")"
   ]
  },
  {
   "cell_type": "code",
   "execution_count": 3,
   "id": "3362fbb2",
   "metadata": {},
   "outputs": [],
   "source": [
    "path = \"E:\\MIMIC-CXR\""
   ]
  },
  {
   "cell_type": "code",
   "execution_count": 4,
   "id": "866625b9",
   "metadata": {},
   "outputs": [],
   "source": [
    "test_labels = pd.read_csv(path+\"\\mimic-cxr-2.1.0-test-set-labeled.csv\")\n",
    "providers = pd.read_csv(path+\"\\cxr-provider-list.csv\")\n",
    "records = pd.read_csv(path+\"\\cxr-record-list.csv\")\n",
    "studies = pd.read_csv(path+\"\\cxr-study-list.csv\")\n",
    "chex_labels = pd.read_csv(path+\"\\mimic-cxr-2.0.0-chexpert.csv\")\n",
    "negbio_labels = pd.read_csv(path+\"\\mimic-cxr-2.0.0-negbio.csv\")\n",
    "split = pd.read_csv(path+\"\\mimic-cxr-2.0.0-split.csv\")"
   ]
  },
  {
   "cell_type": "code",
   "execution_count": 5,
   "id": "e31ce7b5",
   "metadata": {},
   "outputs": [
    {
     "name": "stdout",
     "output_type": "stream",
     "text": [
      " 1.0: 16556 \n",
      " 0.0: 24338 \n",
      "-1.0: 18291 \n",
      "total: 59185 \n",
      "NaN: 168642\n"
     ]
    }
   ],
   "source": [
    "ones=0\n",
    "zeros=0\n",
    "neg=0\n",
    "column= 'Pneumonia'\n",
    "rows = len(chex_labels[column])\n",
    "for i in range(rows):\n",
    "    if chex_labels[column][i] == 1:\n",
    "        ones+=1\n",
    "    elif chex_labels[column][i] == 0:\n",
    "        zeros+=1\n",
    "    elif chex_labels[column][i] == -1:\n",
    "        neg+=1\n",
    "print(\" 1.0:\",ones,\"\\n 0.0:\",zeros,\"\\n-1.0:\",neg,\"\\ntotal:\",ones+zeros+neg,\"\\nNaN:\",rows-(ones+zeros+neg))"
   ]
  },
  {
   "cell_type": "code",
   "execution_count": 6,
   "id": "8246c8ab",
   "metadata": {},
   "outputs": [
    {
     "name": "stdout",
     "output_type": "stream",
     "text": [
      " 1.0: 15919 \n",
      " 0.0: 24891 \n",
      "-1.0: 18375 \n",
      "total: 59185 \n",
      "NaN: 168642\n"
     ]
    }
   ],
   "source": [
    "ones=0\n",
    "zeros=0\n",
    "neg=0\n",
    "column= 'Pneumonia'\n",
    "rows = len(negbio_labels[column])\n",
    "for i in range(rows):\n",
    "    if negbio_labels[column][i] == 1:\n",
    "        ones+=1\n",
    "    elif negbio_labels[column][i] == 0:\n",
    "        zeros+=1\n",
    "    elif negbio_labels[column][i] == -1:\n",
    "        neg+=1\n",
    "print(\" 1.0:\",ones,\"\\n 0.0:\",zeros,\"\\n-1.0:\",neg,\"\\ntotal:\",ones+zeros+neg,\"\\nNaN:\",rows-(ones+zeros+neg))"
   ]
  },
  {
   "cell_type": "code",
   "execution_count": 7,
   "id": "cf5c2927",
   "metadata": {},
   "outputs": [],
   "source": [
    "chex_labels = chex_labels.drop(['Atelectasis', 'Cardiomegaly',\n",
    "       'Consolidation', 'Edema', 'Enlarged Cardiomediastinum', 'Fracture',\n",
    "       'Lung Lesion', 'Lung Opacity', 'No Finding', 'Pleural Effusion',\n",
    "       'Pleural Other', 'Pneumothorax', 'Support Devices'], axis=1)\n",
    "negbio_labels = negbio_labels.drop(['Atelectasis', 'Cardiomegaly',\n",
    "       'Consolidation', 'Edema', 'Enlarged Cardiomediastinum', 'Fracture',\n",
    "       'Lung Lesion', 'Lung Opacity', 'No Finding', 'Pleural Effusion',\n",
    "       'Pleural Other', 'Pneumothorax', 'Support Devices'], axis=1)\n",
    "test_labels = test_labels.drop([ 'No Finding', 'Enlarged Cardiomediastinum', 'Cardiomegaly',\n",
    "       'Lung Lesion', 'Airspace Opacity', 'Edema', 'Consolidation', 'Atelectasis', 'Pneumothorax', 'Pleural Effusion',\n",
    "       'Pleural Other', 'Fracture', 'Support Devices'], axis=1)"
   ]
  },
  {
   "cell_type": "code",
   "execution_count": 8,
   "id": "356f8a1c",
   "metadata": {},
   "outputs": [],
   "source": [
    "chex_labels = chex_labels.dropna()\n",
    "negbio_labels = negbio_labels.dropna()\n",
    "test_labels = test_labels.dropna()"
   ]
  },
  {
   "cell_type": "code",
   "execution_count": 9,
   "id": "dd6cd2bc",
   "metadata": {},
   "outputs": [
    {
     "name": "stdout",
     "output_type": "stream",
     "text": [
      "1422\n"
     ]
    }
   ],
   "source": [
    "counter=0\n",
    "rows = len(negbio_labels['Pneumonia'])\n",
    "for i in range(rows):\n",
    "           if (chex_labels['Pneumonia'].iloc[i] != negbio_labels['Pneumonia'].iloc[i]):\n",
    "               counter+=1\n",
    "print(counter)"
   ]
  },
  {
   "cell_type": "code",
   "execution_count": 10,
   "id": "d90768da",
   "metadata": {},
   "outputs": [],
   "source": [
    "df = pd.merge(negbio_labels, chex_labels, on='study_id',suffixes=('_negbio','_chexpert')) \n",
    "df = pd.merge(df,test_labels , on='study_id')"
   ]
  },
  {
   "cell_type": "code",
   "execution_count": 92,
   "id": "42d17dd1",
   "metadata": {},
   "outputs": [],
   "source": [
    "# import matplotlib.pyplot as plt\n",
    "# plt.figure(figsize=(30, 15))\n",
    "\n",
    "# # # Plot agreement points\n",
    "# # plt.scatter(\n",
    "# #     df.index[df['Agreement']],\n",
    "# #     df['Pneumonia_chexpert'][df['Agreement']],\n",
    "# #     color='green',s=1, label='Agreement'\n",
    "# # )\n",
    "\n",
    "# # # Plot agreement points\n",
    "# # plt.scatter(\n",
    "# #     df.index[df['Agreement']],\n",
    "# #     df['Pneumonia_negbio'][df['Agreement']],\n",
    "# #     color='blue',s=1, label='Agreement'\n",
    "# # )\n",
    "\n",
    "\n",
    "\n",
    "\n",
    "# # Plot disagreement points\n",
    "# plt.scatter(\n",
    "#     df.index[~df['Agreement']],\n",
    "#     df['Pneumonia_chexpert'][~df['Agreement']],\n",
    "#     color='red', s=5, label='Disagreement'\n",
    "# )\n",
    "\n",
    "# # Additional Plot Configurations\n",
    "# # plt.xlabel('Patient ID')\n",
    "# plt.ylabel('Pneumonia Status (chexpert)')\n",
    "# plt.title('Comparison of Pneumonia Diagnosis ')\n",
    "# plt.legend()\n",
    "# plt.grid(True)\n",
    "# plt.show()"
   ]
  },
  {
   "cell_type": "code",
   "execution_count": 11,
   "id": "cdaaadf2",
   "metadata": {},
   "outputs": [
    {
     "data": {
      "text/html": [
       "<div>\n",
       "<style scoped>\n",
       "    .dataframe tbody tr th:only-of-type {\n",
       "        vertical-align: middle;\n",
       "    }\n",
       "\n",
       "    .dataframe tbody tr th {\n",
       "        vertical-align: top;\n",
       "    }\n",
       "\n",
       "    .dataframe thead th {\n",
       "        text-align: right;\n",
       "    }\n",
       "</style>\n",
       "<table border=\"1\" class=\"dataframe\">\n",
       "  <thead>\n",
       "    <tr style=\"text-align: right;\">\n",
       "      <th></th>\n",
       "      <th>study_id</th>\n",
       "      <th>Pneumonia_negbio</th>\n",
       "      <th>Pneumonia_chexpert</th>\n",
       "      <th>Pneumonia</th>\n",
       "    </tr>\n",
       "  </thead>\n",
       "  <tbody>\n",
       "    <tr>\n",
       "      <th>0</th>\n",
       "      <td>56140866</td>\n",
       "      <td>1.0</td>\n",
       "      <td>1.0</td>\n",
       "      <td>1.0</td>\n",
       "    </tr>\n",
       "    <tr>\n",
       "      <th>1</th>\n",
       "      <td>52824884</td>\n",
       "      <td>0.0</td>\n",
       "      <td>0.0</td>\n",
       "      <td>0.0</td>\n",
       "    </tr>\n",
       "    <tr>\n",
       "      <th>2</th>\n",
       "      <td>57949791</td>\n",
       "      <td>0.0</td>\n",
       "      <td>0.0</td>\n",
       "      <td>0.0</td>\n",
       "    </tr>\n",
       "    <tr>\n",
       "      <th>3</th>\n",
       "      <td>59775769</td>\n",
       "      <td>-1.0</td>\n",
       "      <td>-1.0</td>\n",
       "      <td>-1.0</td>\n",
       "    </tr>\n",
       "    <tr>\n",
       "      <th>4</th>\n",
       "      <td>56172325</td>\n",
       "      <td>0.0</td>\n",
       "      <td>0.0</td>\n",
       "      <td>0.0</td>\n",
       "    </tr>\n",
       "    <tr>\n",
       "      <th>...</th>\n",
       "      <td>...</td>\n",
       "      <td>...</td>\n",
       "      <td>...</td>\n",
       "      <td>...</td>\n",
       "    </tr>\n",
       "    <tr>\n",
       "      <th>225</th>\n",
       "      <td>50421764</td>\n",
       "      <td>0.0</td>\n",
       "      <td>0.0</td>\n",
       "      <td>0.0</td>\n",
       "    </tr>\n",
       "    <tr>\n",
       "      <th>226</th>\n",
       "      <td>51326934</td>\n",
       "      <td>0.0</td>\n",
       "      <td>0.0</td>\n",
       "      <td>0.0</td>\n",
       "    </tr>\n",
       "    <tr>\n",
       "      <th>227</th>\n",
       "      <td>55906329</td>\n",
       "      <td>0.0</td>\n",
       "      <td>-1.0</td>\n",
       "      <td>0.0</td>\n",
       "    </tr>\n",
       "    <tr>\n",
       "      <th>228</th>\n",
       "      <td>52697084</td>\n",
       "      <td>0.0</td>\n",
       "      <td>0.0</td>\n",
       "      <td>0.0</td>\n",
       "    </tr>\n",
       "    <tr>\n",
       "      <th>229</th>\n",
       "      <td>53913561</td>\n",
       "      <td>0.0</td>\n",
       "      <td>0.0</td>\n",
       "      <td>0.0</td>\n",
       "    </tr>\n",
       "  </tbody>\n",
       "</table>\n",
       "<p>230 rows × 4 columns</p>\n",
       "</div>"
      ],
      "text/plain": [
       "     study_id  Pneumonia_negbio  Pneumonia_chexpert  Pneumonia\n",
       "0    56140866               1.0                 1.0        1.0\n",
       "1    52824884               0.0                 0.0        0.0\n",
       "2    57949791               0.0                 0.0        0.0\n",
       "3    59775769              -1.0                -1.0       -1.0\n",
       "4    56172325               0.0                 0.0        0.0\n",
       "..        ...               ...                 ...        ...\n",
       "225  50421764               0.0                 0.0        0.0\n",
       "226  51326934               0.0                 0.0        0.0\n",
       "227  55906329               0.0                -1.0        0.0\n",
       "228  52697084               0.0                 0.0        0.0\n",
       "229  53913561               0.0                 0.0        0.0\n",
       "\n",
       "[230 rows x 4 columns]"
      ]
     },
     "execution_count": 11,
     "metadata": {},
     "output_type": "execute_result"
    }
   ],
   "source": [
    "df"
   ]
  },
  {
   "cell_type": "code",
   "execution_count": 12,
   "id": "294aec56",
   "metadata": {},
   "outputs": [],
   "source": [
    "from sklearn.metrics import accuracy_score, confusion_matrix, classification_report\n",
    "negbio_acc = accuracy_score(df['Pneumonia_negbio'], df['Pneumonia'])\n",
    "chex_acc = accuracy_score(df['Pneumonia_chexpert'], df['Pneumonia'])"
   ]
  },
  {
   "cell_type": "code",
   "execution_count": 13,
   "id": "01fb39a5",
   "metadata": {},
   "outputs": [
    {
     "name": "stdout",
     "output_type": "stream",
     "text": [
      "0.7086956521739131 0.6826086956521739\n"
     ]
    }
   ],
   "source": [
    "print(negbio_acc,chex_acc)"
   ]
  },
  {
   "cell_type": "code",
   "execution_count": 14,
   "id": "73409d4e",
   "metadata": {},
   "outputs": [
    {
     "name": "stdout",
     "output_type": "stream",
     "text": [
      "\n",
      "Confusion Matrix for NegBio:\n",
      "[[38  1 16]\n",
      " [16 65  8]\n",
      " [19  7 60]]\n",
      "\n",
      "Confusion Matrix for CheXpert:\n",
      "[[37  1 17]\n",
      " [19 62  8]\n",
      " [23  5 58]]\n"
     ]
    }
   ],
   "source": [
    "conf_matrix_negbio = confusion_matrix(df['Pneumonia'], df['Pneumonia_negbio'], labels=[1.0, 0.0, -1.0])\n",
    "conf_matrix_chexpert = confusion_matrix(df['Pneumonia'], df['Pneumonia_chexpert'], labels=[1.0, 0.0, -1.0])\n",
    "\n",
    "print(\"\\nConfusion Matrix for NegBio:\")\n",
    "print(conf_matrix_negbio)\n",
    "\n",
    "print(\"\\nConfusion Matrix for CheXpert:\")\n",
    "print(conf_matrix_chexpert)"
   ]
  },
  {
   "cell_type": "code",
   "execution_count": 19,
   "id": "4e2e19d0",
   "metadata": {},
   "outputs": [],
   "source": [
    "from pathlib import Path\n",
    "\n",
    "path2 = Path(\"E:/MIMIC-CXR/files/p19\")\n",
    "\n",
    "# Check if the path exists (optional but useful for debugging)\n",
    "if not path2.exists():\n",
    "    print(f\"The directory {path2} does not exist.\")\n",
    "else:\n",
    "    # List all .txt files in the directory and its subdirectories\n",
    "    files = list(path2.rglob(\"*.txt\"))"
   ]
  },
  {
   "cell_type": "code",
   "execution_count": 22,
   "id": "3a06504a",
   "metadata": {},
   "outputs": [
    {
     "name": "stdout",
     "output_type": "stream",
     "text": [
      "Content of E:\\MIMIC-CXR\\files\\p19\\p19000065\\s51613820.txt:\n",
      "                                 FINAL REPORT\n",
      " EXAMINATION:  CHEST (PORTABLE AP)\n",
      " \n",
      " INDICATION:  History: ___F with fall from standing. Reports headache, neck\n",
      " pain, Tspine TTP, right shoulder TTP  // eval for ICH, spinal fracture,\n",
      " shoulder fracture/fracture\n",
      " \n",
      " COMPARISON:  CT T-spine from earlier the same day and chest radiographs ___\n",
      " \n",
      " FINDINGS: \n",
      " \n",
      " AP semi upright view of the chest provided.\n",
      " \n",
      " There is no focal consolidation, effusion, or pneumothorax.  Bibasilar\n",
      " atelectasis is similar to prior.  Mild cardiomegaly and large hiatal hernia\n",
      " are similar to prior. Imaged osseous structures are intact.  No free air below\n",
      " the right hemidiaphragm is seen.\n",
      " \n",
      " IMPRESSION: \n",
      " \n",
      " No acute intrathoracic process.\n",
      "\n",
      "----------------------------------------\n",
      "Content of E:\\MIMIC-CXR\\files\\p19\\p19000108\\s58898689.txt:\n",
      "                                 FINAL REPORT\n",
      " INDICATION:  Breast cancer, on chemotherapy, evaluate for pneumonia.\n",
      " \n",
      " COMPARISON:  Chest radiograph on ___.\n",
      " \n",
      " FINDINGS:  AP and lateral views of the chest.  In the mid right lung, there is\n",
      " a new round opacity that is concerning for a mass however may represent focal\n",
      " infection.  There is no pleural effusion or pneumothorax.  No focal\n",
      " consolidation.  Cardiomediastinal and hilar contours are normal.\n",
      " \n",
      " IMPRESSION:  Right mid lung rounded opacity may represent a new mass or\n",
      " infection.  Recommend CT for further evaluation. \n",
      " \n",
      " These findings were emailed to the ___ nurses by Dr. ___ at 747am on\n",
      " ___.\n",
      "\n",
      "----------------------------------------\n",
      "Content of E:\\MIMIC-CXR\\files\\p19\\p19000174\\s50744783.txt:\n",
      "                                 FINAL REPORT\n",
      " EXAMINATION:  PA and lateral chest radiographs\n",
      " \n",
      " INDICATION:  ___ year old woman with increased cough  // r/o lesions\n",
      " \n",
      " TECHNIQUE:  Chest PA and lateral\n",
      " \n",
      " COMPARISON:  PA and lateral chest radiographs dated ___\n",
      " \n",
      " FINDINGS: \n",
      " \n",
      " In comparison to the chest radiographs obtained ___, no significant\n",
      " changes are appreciated.  Lungs are fully expanded and clear without focal\n",
      " consolidation or suspicious pulmonary nodules.  No pleural effusions.  Mild\n",
      " cardiomegaly is unchanged without pulmonary vascular congestion or pulmonary\n",
      " edema.  Descending thoracic aorta is tortuous, but unchanged.  Median\n",
      " sternotomy wires are well aligned and intact.\n",
      " \n",
      " IMPRESSION: \n",
      " \n",
      " No radiographic evidence of pneumonia, intrathoracic malignancy, or other\n",
      " acute cardiopulmonary abnormalities.\n",
      "\n",
      "----------------------------------------\n",
      "Content of E:\\MIMIC-CXR\\files\\p19\\p19000174\\s51659925.txt:\n",
      "                                 FINAL REPORT\n",
      " EXAMINATION:  CHEST (PA AND LAT)\n",
      " \n",
      " INDICATION:  History: ___F with chest pain\n",
      " \n",
      " TECHNIQUE:  Chest PA and lateral\n",
      " \n",
      " COMPARISON:  ___\n",
      " \n",
      " FINDINGS: \n",
      " \n",
      " Patient is status post median sternotomy and CABG.  Mild cardiomegaly is\n",
      " similar.  The aorta remains tortuous, and the mediastinal and hilar contours\n",
      " are unchanged.  Pulmonary vasculature is not engorged.  There is minimal\n",
      " atelectasis at the lung bases without focal consolidation.  No pleural\n",
      " effusion or pneumothorax is detected.  Degenerative changes are seen\n",
      " throughout the thoracic spine.\n",
      " \n",
      " IMPRESSION: \n",
      " \n",
      " No acute cardiopulmonary abnormality.\n",
      "\n",
      "----------------------------------------\n",
      "Content of E:\\MIMIC-CXR\\files\\p19\\p19000174\\s52249662.txt:\n",
      "                                 FINAL REPORT\n",
      " INDICATION:   ___F with chest p;ain  // ptx, wodenened mediatsinum?\n",
      " \n",
      " TECHNIQUE:  PA and lateral views of the chest.\n",
      " \n",
      " COMPARISON:  ___\n",
      " \n",
      " FINDINGS: \n",
      " \n",
      " The lungs are clear without consolidation, effusion, or vascular congestion.\n",
      " Cardiomediastinal silhouette is within normal limits. Tortuous descending\n",
      " thoracic aorta is noted. Median sternotomy wires and mediastinal clips are\n",
      " again seen. Chronic changes identified at the shoulders as on prior. No acute\n",
      " osseous abnormalities.\n",
      " \n",
      " IMPRESSION: \n",
      " \n",
      " No acute cardiopulmonary process.\n",
      "\n",
      "----------------------------------------\n",
      "Content of E:\\MIMIC-CXR\\files\\p19\\p19000174\\s52712438.txt:\n",
      " WET READ: ___ ___ ___ 4:54 AM\n",
      "  \n",
      "  Bilateral lower lobe bronchopneumonia, unchanged in appearance since prior\n",
      "  examination.\n",
      " ______________________________________________________________________________\n",
      "                                 FINAL REPORT\n",
      " EXAMINATION:  Chest radiograph.\n",
      " \n",
      " INDICATION:  ___F with n/v, cough, leukocytosis.  Assess for cardiopulmonary\n",
      " process.\n",
      " \n",
      " TECHNIQUE:  Chest PA and lateral\n",
      " \n",
      " COMPARISON:  Chest radiograph ___\n",
      " \n",
      " FINDINGS: \n",
      " \n",
      " Persistent subtle right lower lobe and retrocardiac opacity.  Left basilar\n",
      " atelectasis is noted.  No pulmonary edema.  No pleural effusion or\n",
      " pneumothorax.  Heart is top-normal in size.  Mediastinal contour and hila are\n",
      " unremarkable.\n",
      " \n",
      " Intact median sternotomy wires.  Mediastinal clips are noted.\n",
      " \n",
      " IMPRESSION: \n",
      " \n",
      " Bilateral lower lobe bronchopneumonia, unchanged in appearance since prior\n",
      " examination.\n",
      " \n",
      " RECOMMENDATION(S):  Recommend short interval followup chest radiograph ___\n",
      " weeks after completion of treatment to assess for resolution.\n",
      "\n",
      "----------------------------------------\n",
      "Content of E:\\MIMIC-CXR\\files\\p19\\p19000174\\s52960267.txt:\n",
      "                                 FINAL REPORT\n",
      " EXAMINATION:  CHEST (PA AND LAT)CHEST (PA AND LAT)i\n",
      " \n",
      " INDICATION:  ___ year old woman with chronic cough, getting worse  // ?\n",
      " pneumonia, mass\n",
      " \n",
      " COMPARISON:  Chest radiographs since ___ most recently in ___.\n",
      " \n",
      " IMPRESSION: \n",
      " \n",
      " There is no radiographic evidence of either pneumonia or heart failure.\n",
      " Patient has had median sternotomy and coronary bypass grafting. Heart is\n",
      " normal size common is no pleural effusion. Lungs are grossly clear.\n",
      " \n",
      " Lung nodules noted on in the report of torso CT ___ are not visible\n",
      " on the conventional chest radiograph common and would need repeat CT scanning\n",
      " to assess growth. That study also the suggested bulge in the posterior wall of\n",
      " the trachea at the level of the cricopharyngeus, which could be an indentation\n",
      " made by and well-developed upper esophageal sphincter, or could be a tracheal\n",
      " mass in the posterior wall.  CT scanning would evaluate both possibilities,\n",
      " but the utility of diagnosis should be weighted in light of the patient's age.\n",
      "\n",
      "----------------------------------------\n",
      "Content of E:\\MIMIC-CXR\\files\\p19\\p19000174\\s55474822.txt:\n",
      "                                 FINAL REPORT\n",
      " HISTORY:  Bronchitis; question of consolidation on prior exams.\n",
      " \n",
      " TECHNIQUE:  PA and lateral chest radiograph, 2 views.\n",
      " \n",
      " COMPARISON:  ___.\n",
      " \n",
      " FINDINGS:\n",
      " \n",
      " Postoperative cardiomediastinal silhouette and hilar contours are stable. \n",
      " Lungs are clear.  There is no pleural effusion or pneumothorax.\n",
      " \n",
      " IMPRESSION:\n",
      " \n",
      " No acute cardiopulmonary process; specifically, no evidence of pneumonia.\n",
      "\n",
      "----------------------------------------\n",
      "Content of E:\\MIMIC-CXR\\files\\p19\\p19000174\\s55721031.txt:\n",
      "                                 FINAL REPORT\n",
      " CHEST RADIOGRAPH PERFORMED ON ___\n",
      " \n",
      " COMPARISON:  Prior study dated ___.\n",
      " \n",
      " FINDINGS:  AP view of the chest was provided.  Midline sternotomy wires and\n",
      " mediastinal clips are noted.  The lungs appear clear without focal\n",
      " consolidation, effusion, or pneumothorax.  Subtle nodular opacities are noted\n",
      " in the left mid lung.  No large effusion or pneumothorax.  Cardiomediastinal\n",
      " silhouette appears stable.  Bony structures are intact.\n",
      " \n",
      " IMPRESSION:  No acute findings.  Subtle nodular opacities in the left mid\n",
      " lung.  Please refer to subsequent CT of the chest for further details.\n",
      "\n",
      "----------------------------------------\n",
      "Content of E:\\MIMIC-CXR\\files\\p19\\p19000174\\s56174975.txt:\n",
      "                                 FINAL REPORT\n",
      " EXAMINATION:  CHEST (PA AND LAT)\n",
      " \n",
      " INDICATION:  History: ___F with chest pain and fever.  Evaluate for pneumonia.\n",
      " \n",
      " COMPARISON:  Chest radiograph from ___.\n",
      " \n",
      " FINDINGS: \n",
      " \n",
      " Support Devices:  None.\n",
      " \n",
      " The lungs are clear. The sternotomy wires and mediastinal surgical clips are\n",
      " unchanged. Heart size normal. There is no pneumothorax or pleural effusion. \n",
      " Pulmonary vascularity is normal.  There is a high riding right humeral head\n",
      " consistent with rotator cuff rupture.\n",
      " \n",
      " IMPRESSION: \n",
      " \n",
      " No evidence of pneumonia.\n",
      "\n",
      "----------------------------------------\n"
     ]
    }
   ],
   "source": [
    "for i in range(10):\n",
    "  file_path = files[i]\n",
    "  with open(file_path, 'r') as file:\n",
    "      content = file.read()\n",
    "      # Process the content as needed\n",
    "      print(f\"Content of {file_path}:\")\n",
    "      print(content)\n",
    "      print(\"-\" * 40)  # Separator for readability"
   ]
  },
  {
   "cell_type": "code",
   "execution_count": 42,
   "id": "b5a681d3",
   "metadata": {},
   "outputs": [],
   "source": [
    "# list of studies related to pneumonia\n",
    "pneumonia_studies = list(map(str, negbio_labels['study_id'].tolist()))"
   ]
  },
  {
   "cell_type": "code",
   "execution_count": 39,
   "id": "1abc13bc",
   "metadata": {},
   "outputs": [
    {
     "data": {
      "text/plain": [
       "22830"
      ]
     },
     "execution_count": 39,
     "metadata": {},
     "output_type": "execute_result"
    }
   ],
   "source": [
    "len(files)"
   ]
  },
  {
   "cell_type": "code",
   "execution_count": 43,
   "id": "d5949826",
   "metadata": {},
   "outputs": [
    {
     "data": {
      "text/plain": [
       "59185"
      ]
     },
     "execution_count": 43,
     "metadata": {},
     "output_type": "execute_result"
    }
   ],
   "source": [
    "len(pneumonia_studies)"
   ]
  },
  {
   "cell_type": "code",
   "execution_count": 45,
   "id": "ee68047b",
   "metadata": {},
   "outputs": [],
   "source": [
    "filtered_paths = [\n",
    "    path for path in files\n",
    "    if any(study_number in path.stem for study_number in pneumonia_studies)\n",
    "]"
   ]
  },
  {
   "cell_type": "code",
   "execution_count": 47,
   "id": "f4dd3b5e",
   "metadata": {},
   "outputs": [
    {
     "data": {
      "text/plain": [
       "5987"
      ]
     },
     "execution_count": 47,
     "metadata": {},
     "output_type": "execute_result"
    }
   ],
   "source": [
    "len(filtered_paths)"
   ]
  },
  {
   "cell_type": "code",
   "execution_count": 48,
   "id": "3d201720",
   "metadata": {},
   "outputs": [
    {
     "data": {
      "text/plain": [
       "list"
      ]
     },
     "execution_count": 48,
     "metadata": {},
     "output_type": "execute_result"
    }
   ],
   "source": [
    "type(filtered_paths)"
   ]
  },
  {
   "cell_type": "code",
   "execution_count": 51,
   "id": "c90da3cb",
   "metadata": {},
   "outputs": [],
   "source": [
    "output_file = 'p19_pneumonia.txt'\n",
    "\n",
    "# Save the list to a text file\n",
    "with open(output_file, 'w') as f:\n",
    "    for path in filtered_paths:\n",
    "        f.write(str(path) + '\\n')  # Convert Path object to string and write to file"
   ]
  },
  {
   "cell_type": "code",
   "execution_count": null,
   "id": "fc301110",
   "metadata": {},
   "outputs": [],
   "source": []
  }
 ],
 "metadata": {
  "kernelspec": {
   "display_name": "Python 3 (ipykernel)",
   "language": "python",
   "name": "python3"
  },
  "language_info": {
   "codemirror_mode": {
    "name": "ipython",
    "version": 3
   },
   "file_extension": ".py",
   "mimetype": "text/x-python",
   "name": "python",
   "nbconvert_exporter": "python",
   "pygments_lexer": "ipython3",
   "version": "3.11.4"
  }
 },
 "nbformat": 4,
 "nbformat_minor": 5
}
